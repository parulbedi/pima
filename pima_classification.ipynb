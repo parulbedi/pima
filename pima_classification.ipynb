{
 "cells": [
  {
   "cell_type": "code",
   "execution_count": 4,
   "id": "73ab4a1e",
   "metadata": {},
   "outputs": [],
   "source": [
    "#import required library\n",
    "import numpy as np\n",
    "import pandas as pd\n",
    "import seaborn as seab\n",
    "import matplotlib.pyplot as mplt\n",
    "import sklearn"
   ]
  },
  {
   "cell_type": "code",
   "execution_count": 5,
   "id": "65b8e74f",
   "metadata": {},
   "outputs": [],
   "source": [
    "#with above sklearn library we will divide our dataset into test and train sets\n",
    "from sklearn.model_selection import train_test_split\n",
    "\n",
    "#as per our problem statement, we have to find or predict the people who can be diabetic in future, \n",
    "#so in this case Either a person will be diabetic Or He/She will be not, \n",
    "#ITS A True/False , Yes/No scenerio\n",
    "#So, here we can use Logistic Regression\n",
    "from sklearn.linear_model import LogisticRegression\n",
    "\n",
    "#tranformation applied to data before it is consumed by the algorithm itself \n",
    "#because its right now in raw format and containd missing or wrong values, outliers etc etc...\n",
    "from sklearn import preprocessing\n"
   ]
  },
  {
   "cell_type": "code",
   "execution_count": 6,
   "id": "6d6afc3b",
   "metadata": {},
   "outputs": [],
   "source": [
    "#lets read the flat file and see what we have got in it\n",
    "database = pd.read_csv(\n",
    "    'https://raw.githubusercontent.com/parulbedi/pima/main/pima-indians-diabetes.csv', \n",
    "    names=['pregnant','glucose','Diastolic','skin','insulin','BMI','pedifunction','age','tagged']\n",
    ")"
   ]
  },
  {
   "cell_type": "code",
   "execution_count": 7,
   "id": "04fd3f72",
   "metadata": {},
   "outputs": [
    {
     "data": {
      "text/html": [
       "<div>\n",
       "<style scoped>\n",
       "    .dataframe tbody tr th:only-of-type {\n",
       "        vertical-align: middle;\n",
       "    }\n",
       "\n",
       "    .dataframe tbody tr th {\n",
       "        vertical-align: top;\n",
       "    }\n",
       "\n",
       "    .dataframe thead th {\n",
       "        text-align: right;\n",
       "    }\n",
       "</style>\n",
       "<table border=\"1\" class=\"dataframe\">\n",
       "  <thead>\n",
       "    <tr style=\"text-align: right;\">\n",
       "      <th></th>\n",
       "      <th>pregnant</th>\n",
       "      <th>glucose</th>\n",
       "      <th>Diastolic</th>\n",
       "      <th>skin</th>\n",
       "      <th>insulin</th>\n",
       "      <th>BMI</th>\n",
       "      <th>pedifunction</th>\n",
       "      <th>age</th>\n",
       "      <th>tagged</th>\n",
       "    </tr>\n",
       "  </thead>\n",
       "  <tbody>\n",
       "    <tr>\n",
       "      <th>0</th>\n",
       "      <td>6</td>\n",
       "      <td>148</td>\n",
       "      <td>72</td>\n",
       "      <td>35</td>\n",
       "      <td>0</td>\n",
       "      <td>33.6</td>\n",
       "      <td>0.627</td>\n",
       "      <td>50</td>\n",
       "      <td>1</td>\n",
       "    </tr>\n",
       "    <tr>\n",
       "      <th>1</th>\n",
       "      <td>1</td>\n",
       "      <td>85</td>\n",
       "      <td>66</td>\n",
       "      <td>29</td>\n",
       "      <td>0</td>\n",
       "      <td>26.6</td>\n",
       "      <td>0.351</td>\n",
       "      <td>31</td>\n",
       "      <td>0</td>\n",
       "    </tr>\n",
       "    <tr>\n",
       "      <th>2</th>\n",
       "      <td>8</td>\n",
       "      <td>183</td>\n",
       "      <td>64</td>\n",
       "      <td>0</td>\n",
       "      <td>0</td>\n",
       "      <td>23.3</td>\n",
       "      <td>0.672</td>\n",
       "      <td>32</td>\n",
       "      <td>1</td>\n",
       "    </tr>\n",
       "    <tr>\n",
       "      <th>3</th>\n",
       "      <td>1</td>\n",
       "      <td>89</td>\n",
       "      <td>66</td>\n",
       "      <td>23</td>\n",
       "      <td>94</td>\n",
       "      <td>28.1</td>\n",
       "      <td>0.167</td>\n",
       "      <td>21</td>\n",
       "      <td>0</td>\n",
       "    </tr>\n",
       "    <tr>\n",
       "      <th>4</th>\n",
       "      <td>0</td>\n",
       "      <td>137</td>\n",
       "      <td>40</td>\n",
       "      <td>35</td>\n",
       "      <td>168</td>\n",
       "      <td>43.1</td>\n",
       "      <td>2.288</td>\n",
       "      <td>33</td>\n",
       "      <td>1</td>\n",
       "    </tr>\n",
       "  </tbody>\n",
       "</table>\n",
       "</div>"
      ],
      "text/plain": [
       "   pregnant  glucose  Diastolic  skin  insulin   BMI  pedifunction  age  \\\n",
       "0         6      148         72    35        0  33.6         0.627   50   \n",
       "1         1       85         66    29        0  26.6         0.351   31   \n",
       "2         8      183         64     0        0  23.3         0.672   32   \n",
       "3         1       89         66    23       94  28.1         0.167   21   \n",
       "4         0      137         40    35      168  43.1         2.288   33   \n",
       "\n",
       "   tagged  \n",
       "0       1  \n",
       "1       0  \n",
       "2       1  \n",
       "3       0  \n",
       "4       1  "
      ]
     },
     "execution_count": 7,
     "metadata": {},
     "output_type": "execute_result"
    }
   ],
   "source": [
    "database.head()"
   ]
  },
  {
   "cell_type": "code",
   "execution_count": 8,
   "id": "62018d1d",
   "metadata": {},
   "outputs": [
    {
     "data": {
      "text/plain": [
       "(768, 9)"
      ]
     },
     "execution_count": 8,
     "metadata": {},
     "output_type": "execute_result"
    }
   ],
   "source": [
    "database.shape"
   ]
  },
  {
   "cell_type": "code",
   "execution_count": 9,
   "id": "ed58dc5a",
   "metadata": {},
   "outputs": [
    {
     "name": "stdout",
     "output_type": "stream",
     "text": [
      "<class 'pandas.core.frame.DataFrame'>\n",
      "RangeIndex: 768 entries, 0 to 767\n",
      "Data columns (total 9 columns):\n",
      " #   Column        Non-Null Count  Dtype  \n",
      "---  ------        --------------  -----  \n",
      " 0   pregnant      768 non-null    int64  \n",
      " 1   glucose       768 non-null    int64  \n",
      " 2   Diastolic     768 non-null    int64  \n",
      " 3   skin          768 non-null    int64  \n",
      " 4   insulin       768 non-null    int64  \n",
      " 5   BMI           768 non-null    float64\n",
      " 6   pedifunction  768 non-null    float64\n",
      " 7   age           768 non-null    int64  \n",
      " 8   tagged        768 non-null    int64  \n",
      "dtypes: float64(2), int64(7)\n",
      "memory usage: 54.1 KB\n"
     ]
    }
   ],
   "source": [
    "database.info()"
   ]
  },
  {
   "cell_type": "code",
   "execution_count": 10,
   "id": "e6c1408b",
   "metadata": {
    "scrolled": true
   },
   "outputs": [
    {
     "data": {
      "text/html": [
       "<div>\n",
       "<style scoped>\n",
       "    .dataframe tbody tr th:only-of-type {\n",
       "        vertical-align: middle;\n",
       "    }\n",
       "\n",
       "    .dataframe tbody tr th {\n",
       "        vertical-align: top;\n",
       "    }\n",
       "\n",
       "    .dataframe thead th {\n",
       "        text-align: right;\n",
       "    }\n",
       "</style>\n",
       "<table border=\"1\" class=\"dataframe\">\n",
       "  <thead>\n",
       "    <tr style=\"text-align: right;\">\n",
       "      <th></th>\n",
       "      <th>pregnant</th>\n",
       "      <th>glucose</th>\n",
       "      <th>Diastolic</th>\n",
       "      <th>skin</th>\n",
       "      <th>insulin</th>\n",
       "      <th>BMI</th>\n",
       "      <th>pedifunction</th>\n",
       "      <th>age</th>\n",
       "      <th>tagged</th>\n",
       "    </tr>\n",
       "  </thead>\n",
       "  <tbody>\n",
       "    <tr>\n",
       "      <th>count</th>\n",
       "      <td>768.000000</td>\n",
       "      <td>768.000000</td>\n",
       "      <td>768.000000</td>\n",
       "      <td>768.000000</td>\n",
       "      <td>768.000000</td>\n",
       "      <td>768.000000</td>\n",
       "      <td>768.000000</td>\n",
       "      <td>768.000000</td>\n",
       "      <td>768.000000</td>\n",
       "    </tr>\n",
       "    <tr>\n",
       "      <th>mean</th>\n",
       "      <td>3.845052</td>\n",
       "      <td>120.894531</td>\n",
       "      <td>69.105469</td>\n",
       "      <td>20.536458</td>\n",
       "      <td>79.799479</td>\n",
       "      <td>31.992578</td>\n",
       "      <td>0.471876</td>\n",
       "      <td>33.240885</td>\n",
       "      <td>0.348958</td>\n",
       "    </tr>\n",
       "    <tr>\n",
       "      <th>std</th>\n",
       "      <td>3.369578</td>\n",
       "      <td>31.972618</td>\n",
       "      <td>19.355807</td>\n",
       "      <td>15.952218</td>\n",
       "      <td>115.244002</td>\n",
       "      <td>7.884160</td>\n",
       "      <td>0.331329</td>\n",
       "      <td>11.760232</td>\n",
       "      <td>0.476951</td>\n",
       "    </tr>\n",
       "    <tr>\n",
       "      <th>min</th>\n",
       "      <td>0.000000</td>\n",
       "      <td>0.000000</td>\n",
       "      <td>0.000000</td>\n",
       "      <td>0.000000</td>\n",
       "      <td>0.000000</td>\n",
       "      <td>0.000000</td>\n",
       "      <td>0.078000</td>\n",
       "      <td>21.000000</td>\n",
       "      <td>0.000000</td>\n",
       "    </tr>\n",
       "    <tr>\n",
       "      <th>25%</th>\n",
       "      <td>1.000000</td>\n",
       "      <td>99.000000</td>\n",
       "      <td>62.000000</td>\n",
       "      <td>0.000000</td>\n",
       "      <td>0.000000</td>\n",
       "      <td>27.300000</td>\n",
       "      <td>0.243750</td>\n",
       "      <td>24.000000</td>\n",
       "      <td>0.000000</td>\n",
       "    </tr>\n",
       "    <tr>\n",
       "      <th>50%</th>\n",
       "      <td>3.000000</td>\n",
       "      <td>117.000000</td>\n",
       "      <td>72.000000</td>\n",
       "      <td>23.000000</td>\n",
       "      <td>30.500000</td>\n",
       "      <td>32.000000</td>\n",
       "      <td>0.372500</td>\n",
       "      <td>29.000000</td>\n",
       "      <td>0.000000</td>\n",
       "    </tr>\n",
       "    <tr>\n",
       "      <th>75%</th>\n",
       "      <td>6.000000</td>\n",
       "      <td>140.250000</td>\n",
       "      <td>80.000000</td>\n",
       "      <td>32.000000</td>\n",
       "      <td>127.250000</td>\n",
       "      <td>36.600000</td>\n",
       "      <td>0.626250</td>\n",
       "      <td>41.000000</td>\n",
       "      <td>1.000000</td>\n",
       "    </tr>\n",
       "    <tr>\n",
       "      <th>max</th>\n",
       "      <td>17.000000</td>\n",
       "      <td>199.000000</td>\n",
       "      <td>122.000000</td>\n",
       "      <td>99.000000</td>\n",
       "      <td>846.000000</td>\n",
       "      <td>67.100000</td>\n",
       "      <td>2.420000</td>\n",
       "      <td>81.000000</td>\n",
       "      <td>1.000000</td>\n",
       "    </tr>\n",
       "  </tbody>\n",
       "</table>\n",
       "</div>"
      ],
      "text/plain": [
       "         pregnant     glucose   Diastolic        skin     insulin         BMI  \\\n",
       "count  768.000000  768.000000  768.000000  768.000000  768.000000  768.000000   \n",
       "mean     3.845052  120.894531   69.105469   20.536458   79.799479   31.992578   \n",
       "std      3.369578   31.972618   19.355807   15.952218  115.244002    7.884160   \n",
       "min      0.000000    0.000000    0.000000    0.000000    0.000000    0.000000   \n",
       "25%      1.000000   99.000000   62.000000    0.000000    0.000000   27.300000   \n",
       "50%      3.000000  117.000000   72.000000   23.000000   30.500000   32.000000   \n",
       "75%      6.000000  140.250000   80.000000   32.000000  127.250000   36.600000   \n",
       "max     17.000000  199.000000  122.000000   99.000000  846.000000   67.100000   \n",
       "\n",
       "       pedifunction         age      tagged  \n",
       "count    768.000000  768.000000  768.000000  \n",
       "mean       0.471876   33.240885    0.348958  \n",
       "std        0.331329   11.760232    0.476951  \n",
       "min        0.078000   21.000000    0.000000  \n",
       "25%        0.243750   24.000000    0.000000  \n",
       "50%        0.372500   29.000000    0.000000  \n",
       "75%        0.626250   41.000000    1.000000  \n",
       "max        2.420000   81.000000    1.000000  "
      ]
     },
     "execution_count": 10,
     "metadata": {},
     "output_type": "execute_result"
    }
   ],
   "source": [
    "database.describe()"
   ]
  },
  {
   "cell_type": "code",
   "execution_count": 11,
   "id": "59b131ca",
   "metadata": {},
   "outputs": [],
   "source": [
    "#converting column data from any string value to number if there is any string in dataframe\n",
    "convert_column = ['pregnant','glucose','Diastolic','skin','insulin','BMI','pedifunction','age']\n",
    "for col in convert_column:\n",
    "    database[col] = pd.to_numeric(database[col])"
   ]
  },
  {
   "cell_type": "code",
   "execution_count": 12,
   "id": "2b810072",
   "metadata": {},
   "outputs": [],
   "source": [
    "#now we will select feastures with which we can predict or \n",
    "#determine whether a person is suffering from diabetes or not\n",
    "#X=Independent data , y=dependent data(target data)\n",
    "feature_column = ['pregnant','glucose','Diastolic','skin','insulin','BMI','pedifunction','age']\n",
    "X = database[feature_column]\n",
    "y = database.tagged"
   ]
  },
  {
   "cell_type": "code",
   "execution_count": 50,
   "id": "7b686ab0",
   "metadata": {},
   "outputs": [
    {
     "data": {
      "text/plain": [
       "Text(493.8000000000002, 0.5, 'y axis')"
      ]
     },
     "execution_count": 50,
     "metadata": {},
     "output_type": "execute_result"
    },
    {
     "data": {
      "image/png": "[encoded data removed]",
      "text/plain": [
       "<Figure size 2880x2160 with 2 Axes>"
      ]
     },
     "metadata": {
      "needs_background": "light"
     },
     "output_type": "display_data"
    }
   ],
   "source": [
    "corr = database.corr()\n",
    "mplt.figure(figsize=(40, 30))\n",
    "co_range = corr[(corr >= 0.3) | (corr <= -0.1)]\n",
    "seab.heatmap(co_range, vmax=.8, linewidths=0.01, square=True, annot=True, cmap='RdBu', linecolor='black', cbar_kws={'label':'Co-relation Color'})\n",
    "mplt.title('features of PIMA Dataset')\n",
    "mplt.xlabel('x axis')\n",
    "mplt.ylabel('y axis')"
   ]
  },
  {
   "cell_type": "code",
   "execution_count": 13,
   "id": "41e0c7ac",
   "metadata": {},
   "outputs": [],
   "source": [
    "#splitting dataset into testing and traing sets\n",
    "X_train, X_test, y_train, y_test = train_test_split(X,y, test_size=0.30, random_state=1)"
   ]
  },
  {
   "cell_type": "code",
   "execution_count": 14,
   "id": "b4be84c8",
   "metadata": {},
   "outputs": [],
   "source": [
    "#Applying Logistic Reggression Model\n",
    "logistic_function = LogisticRegression()"
   ]
  },
  {
   "cell_type": "code",
   "execution_count": 15,
   "id": "49a3f827",
   "metadata": {},
   "outputs": [],
   "source": [
    "#try to fit the model with training data\n",
    "logistic_function.fit(X_train, y_train)\n",
    "y_prediction = logistic_function.predict(X_test)"
   ]
  },
  {
   "cell_type": "code",
   "execution_count": 16,
   "id": "bda90121",
   "metadata": {},
   "outputs": [],
   "source": [
    "#Model Evaluation using matrix for the performance of classification model\n",
    "from sklearn import metrics"
   ]
  },
  {
   "cell_type": "code",
   "execution_count": 17,
   "id": "7e731a21",
   "metadata": {},
   "outputs": [
    {
     "data": {
      "text/plain": [
       "array([[132,  14],\n",
       "       [ 36,  49]], dtype=int64)"
      ]
     },
     "execution_count": 17,
     "metadata": {},
     "output_type": "execute_result"
    }
   ],
   "source": [
    "# [[ TP , FN ],\n",
    "# [ FP , TN ]]\n",
    "\n",
    "matrix_evalution  = metrics.confusion_matrix(y_test, y_prediction)\n",
    "matrix_evalution"
   ]
  },
  {
   "cell_type": "code",
   "execution_count": 18,
   "id": "62dac32e",
   "metadata": {},
   "outputs": [
    {
     "data": {
      "text/plain": [
       "([<matplotlib.axis.YTick at 0x197ddcda850>,\n",
       "  <matplotlib.axis.YTick at 0x197ef568ee0>],\n",
       " [Text(0, 0, '0'), Text(0, 1, '1')])"
      ]
     },
     "execution_count": 18,
     "metadata": {},
     "output_type": "execute_result"
    },
    {
     "data": {
      "image/png": "[encoded data removed]",
      "text/plain": [
       "<Figure size 432x288 with 1 Axes>"
      ]
     },
     "metadata": {
      "needs_background": "light"
     },
     "output_type": "display_data"
    }
   ],
   "source": [
    "#namimg the classes\n",
    "class_names = [0,1]\n",
    "fig, axs = mplt.subplots()\n",
    "tick_marks = np.arange(len(class_names))\n",
    "mplt.xticks(tick_marks,class_names)\n",
    "mplt.yticks(tick_marks,class_names)"
   ]
  },
  {
   "cell_type": "code",
   "execution_count": 19,
   "id": "59484053",
   "metadata": {},
   "outputs": [
    {
     "data": {
      "text/plain": [
       "Text(0.5, 15.0, 'Predicted label')"
      ]
     },
     "execution_count": 19,
     "metadata": {},
     "output_type": "execute_result"
    },
    {
     "data": {
      "image/png": "[encoded data removed]",
      "text/plain": [
       "<Figure size 432x288 with 2 Axes>"
      ]
     },
     "metadata": {
      "needs_background": "light"
     },
     "output_type": "display_data"
    }
   ],
   "source": [
    "#plotting confusion metrics using heatmap\n",
    "seab.heatmap(pd.DataFrame(matrix_evalution),annot=True,cmap='RdBu', fmt='g')\n",
    "axs.xaxis.set_label_position(\"top\")\n",
    "#mplt.tight_layout()\n",
    "mplt.title(\"Confusion Matrix: Diabetes Patient\", y=1.1)\n",
    "mplt.ylabel(\"Tagged label\")\n",
    "mplt.xlabel(\"Predicted label\")"
   ]
  },
  {
   "cell_type": "code",
   "execution_count": 20,
   "id": "5b75af28",
   "metadata": {
    "scrolled": true
   },
   "outputs": [
    {
     "name": "stdout",
     "output_type": "stream",
     "text": [
      "Accuracy: 0.7835497835497836\n",
      "From this dataset we can conclude that chance of a person getting diabetic is: 78.35497835497836 %\n"
     ]
    }
   ],
   "source": [
    "#using above confusion metrics to evalute the model\n",
    "print(\"Accuracy:\", metrics.accuracy_score(y_test, y_prediction))\n",
    "print(\"From this dataset we can conclude that chance of a person getting diabetic is:\", metrics.accuracy_score(y_test, y_prediction)*100,\"%\")"
   ]
  },
  {
   "cell_type": "code",
   "execution_count": 105,
   "id": "de0a9ca1",
   "metadata": {},
   "outputs": [
    {
     "data": {
      "image/png": "[encoded data removed]",
      "text/plain": [
       "<Figure size 432x288 with 1 Axes>"
      ]
     },
     "metadata": {
      "needs_background": "light"
     },
     "output_type": "display_data"
    }
   ],
   "source": [
    "#ROC curve to check whther over prediction model is a good model or not\n",
    "y_prediction_probability = logistic_function.predict_proba(X_test)[::,1]\n",
    "fpr, tpr, _ = metrics.roc_curve(y_test, y_prediction_probability)\n",
    "auc = metrics.roc_auc_score(y_test, y_prediction_probability)\n",
    "mplt.plot(fpr,tpr,label=\"Accuracy\"+str(auc))\n",
    "mplt.legend()\n",
    "mplt.show()"
   ]
  },
  {
   "cell_type": "code",
   "execution_count": null,
   "id": "f2b550ea",
   "metadata": {},
   "outputs": [],
   "source": [
    "#1 import lib\n",
    "#2 create list of columns you needed\n",
    "#3 load dataset\n",
    "#4 exploratory data analysis\n",
    "#5 convert data from string to number\n",
    "#6 feature selection\n",
    "#7 check co-orelation of dataset\n",
    "#8 split data into train and test sets\n",
    "#9 train the model\n",
    "#10 draw confusion matrix\n",
    "#11 evalute performance of model (check accuracy and precision etc etc )\n",
    "#12 ROC curve to check whther its perfect classifier or not (if below 0.5 than its not useful model)"
   ]
  }
 ],
 "metadata": {
  "celltoolbar": "Raw Cell Format",
  "kernelspec": {
   "display_name": "Python 3 (ipykernel)",
   "language": "python",
   "name": "python3"
  },
  "language_info": {
   "codemirror_mode": {
    "name": "ipython",
    "version": 3
   },
   "file_extension": ".py",
   "mimetype": "text/x-python",
   "name": "python",
   "nbconvert_exporter": "python",
   "pygments_lexer": "ipython3",
   "version": "3.9.5"
  }
 },
 "nbformat": 4,
 "nbformat_minor": 5
}
